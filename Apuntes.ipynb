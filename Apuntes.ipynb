{
  "nbformat": 4,
  "nbformat_minor": 0,
  "metadata": {
    "colab": {
      "provenance": [],
      "authorship_tag": "ABX9TyM3M2e5pV17sX2IEIIdrtYX"
    },
    "kernelspec": {
      "name": "python3",
      "display_name": "Python 3"
    },
    "language_info": {
      "name": "python"
    }
  },
  "cells": [
    {
      "cell_type": "markdown",
      "source": [
        "**Francisco Leonid Galvez Flores**\n",
        "\n",
        " **A01174385**"
      ],
      "metadata": {
        "id": "xT53pdcjoJjY"
      }
    },
    {
      "cell_type": "markdown",
      "source": [
        "# **Introduccion:**"
      ],
      "metadata": {
        "id": "67IpuUV96ns2"
      }
    },
    {
      "cell_type": "markdown",
      "source": [
        "*   python → Entrar desde la terminal de Windows\n",
        "*   python3 → Entrar desde la terminal de Ubuntu"
      ],
      "metadata": {
        "id": "9BLfXq_V7Rz5"
      }
    },
    {
      "cell_type": "code",
      "source": [
        "print(\"Hola mundo\")"
      ],
      "metadata": {
        "colab": {
          "base_uri": "https://localhost:8080/"
        },
        "id": "RYnr-WXc7QmL",
        "outputId": "78abbbec-58ec-41e8-ada4-577706dc1cef"
      },
      "execution_count": null,
      "outputs": [
        {
          "output_type": "stream",
          "name": "stdout",
          "text": [
            "Hola mundo\n"
          ]
        }
      ]
    },
    {
      "cell_type": "markdown",
      "source": [
        "El siguiente comando sirve parar borrar todas las variables de la memoria.\n"
      ],
      "metadata": {
        "id": "wDXrY6Gp7V5l"
      }
    },
    {
      "cell_type": "code",
      "source": [
        "%reset -f"
      ],
      "metadata": {
        "id": "EXD8KqlW7VqB"
      },
      "execution_count": null,
      "outputs": []
    },
    {
      "cell_type": "markdown",
      "source": [
        "## **Variables:**"
      ],
      "metadata": {
        "id": "cEa6QC3E7cwa"
      }
    },
    {
      "cell_type": "markdown",
      "source": [
        "En la nomenclatura de Python las constantes se representan en mayusculas:"
      ],
      "metadata": {
        "id": "n7i8ZGTF7jbk"
      }
    },
    {
      "cell_type": "code",
      "source": [
        "CONSTANTE = \"Soy una constante\""
      ],
      "metadata": {
        "id": "eW9EpTv17isG"
      },
      "execution_count": null,
      "outputs": []
    },
    {
      "cell_type": "markdown",
      "source": [
        "Para declarar una variable normal en Python que lleve mas de una palabra, como por ejemplo el \"Nombre del tutor\" usamos la 'snake_case'; por lo que hariamos uso de '_' y la variable se llamaria \"nombre_tutor\":"
      ],
      "metadata": {
        "id": "9hwibYAA7uox"
      }
    },
    {
      "cell_type": "code",
      "source": [
        "nombre_tutor = \"Codi\""
      ],
      "metadata": {
        "id": "6RfKacZg7uZO"
      },
      "execution_count": null,
      "outputs": []
    },
    {
      "cell_type": "code",
      "source": [
        "print(nombre_tutor)\n",
        "print(CONSTANTE)"
      ],
      "metadata": {
        "colab": {
          "base_uri": "https://localhost:8080/"
        },
        "id": "ujji48Nl8HVK",
        "outputId": "f61b1355-253c-4324-8c85-1a8a8aec8fd9"
      },
      "execution_count": null,
      "outputs": [
        {
          "output_type": "stream",
          "name": "stdout",
          "text": [
            "Codi\n",
            "Soy una constante\n"
          ]
        }
      ]
    },
    {
      "cell_type": "code",
      "source": [
        "%reset -f"
      ],
      "metadata": {
        "id": "_AYhKAIr8JrY"
      },
      "execution_count": null,
      "outputs": []
    },
    {
      "cell_type": "markdown",
      "source": [
        "## **Asignacion:**"
      ],
      "metadata": {
        "id": "GBz73g8I8Ugu"
      }
    },
    {
      "cell_type": "markdown",
      "source": [
        "Una forma de declarar las variables en Python es la siguiente, como podremos observar a manera de comentario del lado derecho tenemos el tipo de dato de cada variable:"
      ],
      "metadata": {
        "id": "azxcJwN08Yvc"
      }
    },
    {
      "cell_type": "code",
      "source": [
        "valor_uno = 10 # Int\n",
        "valor_dos = \"Codi\" # String\n",
        "valor_tres = 10*20 # Operacion aritmetica\n",
        "valor_cuatro = 10.5 # Float\n",
        "valor_cinco = 10/3 # Float\n",
        "valor_seis = True # Bool"
      ],
      "metadata": {
        "id": "m3306O9R8YTe"
      },
      "execution_count": null,
      "outputs": []
    },
    {
      "cell_type": "markdown",
      "source": [
        "Otra posiblidad de declarar variables en Python es la siguiente:"
      ],
      "metadata": {
        "id": "mt39b0n48snc"
      }
    },
    {
      "cell_type": "code",
      "source": [
        "titulo, nombre, apellido = \"Ing.\", \"Francisco\", \"Galvez\""
      ],
      "metadata": {
        "id": "wG6-inBk8hRy"
      },
      "execution_count": null,
      "outputs": []
    },
    {
      "cell_type": "code",
      "source": [
        "print(titulo)\n",
        "print(nombre)\n",
        "print(apellido)"
      ],
      "metadata": {
        "colab": {
          "base_uri": "https://localhost:8080/"
        },
        "id": "PVULHtza8yUm",
        "outputId": "bca95e33-ec97-4a54-a5fd-88b50f726849"
      },
      "execution_count": null,
      "outputs": [
        {
          "output_type": "stream",
          "name": "stdout",
          "text": [
            "Ing.\n",
            "Francisco\n",
            "Galvez\n"
          ]
        }
      ]
    },
    {
      "cell_type": "markdown",
      "source": [
        "Es recomendable que al usar el segundo metodo no se declaren demasiadas variables, de lo contrario el codigo perdera legibilidad:"
      ],
      "metadata": {
        "id": "FN_w1a4G84AO"
      }
    },
    {
      "cell_type": "code",
      "source": [
        "valor_uno, valor_dos, valor_tres, valor_cuatro, valor_cinco, valor_seis = 10, \"Codi\", 10*20, 10.5, 10/3, True"
      ],
      "metadata": {
        "id": "qXHgpG0G81jR"
      },
      "execution_count": null,
      "outputs": []
    },
    {
      "cell_type": "code",
      "source": [
        "print(valor_uno)\n",
        "print(valor_dos)\n",
        "print(valor_tres)\n",
        "print(valor_cuatro)\n",
        "print(valor_cinco)\n",
        "print(valor_seis)"
      ],
      "metadata": {
        "colab": {
          "base_uri": "https://localhost:8080/"
        },
        "id": "bYS55UNG-TRr",
        "outputId": "6d0e00c1-755b-43c1-9192-cc9e91105174"
      },
      "execution_count": null,
      "outputs": [
        {
          "output_type": "stream",
          "name": "stdout",
          "text": [
            "10\n",
            "Codi\n",
            "200\n",
            "10.5\n",
            "3.3333333333333335\n",
            "True\n"
          ]
        }
      ]
    },
    {
      "cell_type": "markdown",
      "source": [
        "Para poder imprimir comillas dentro de una indicacion 'print()' lo que hacemos es usar unas comillas diferentes a las del print dentro del texto a imprimir:"
      ],
      "metadata": {
        "id": "YrTBwDKR-VOj"
      }
    },
    {
      "cell_type": "code",
      "source": [
        "# Imprimiendo comillas simples\n",
        "print(\"'Hola, bienvenido al curso de CodigoFacilito'\")\n",
        "\n",
        "# Imprimiendo comillas dobles\n",
        "print('\"Hola, bienvenido al curso de CodigoFacilito\"')"
      ],
      "metadata": {
        "colab": {
          "base_uri": "https://localhost:8080/"
        },
        "id": "yVWdeZtx-nNr",
        "outputId": "e99881c3-2aa4-4e00-a73d-711fd7d3adce"
      },
      "execution_count": null,
      "outputs": [
        {
          "output_type": "stream",
          "name": "stdout",
          "text": [
            "'Hola, bienvenido al curso de CodigoFacilito'\n",
            "\"Hola, bienvenido al curso de CodigoFacilito\"\n"
          ]
        }
      ]
    },
    {
      "cell_type": "markdown",
      "source": [
        "Ahora, si queremos asignarle a una variable un texto con saltos de linea, lo hariamos haciendo uso de triple comillas dobles o triple comillas simples:"
      ],
      "metadata": {
        "id": "5EdvilgJ-uem"
      }
    },
    {
      "cell_type": "code",
      "source": [
        "mensaje_largo_dobles = \"\"\" \n",
        "                           Te encuentras en los apuntes\n",
        "                           del curso de python profesional\n",
        "                           impartido por CodigoFacilito\n",
        "                        \"\"\"\n",
        "\n",
        "mensaje_largo_simples = '''\n",
        "                           Te encuentras en los apuntes\n",
        "                           del curso de python profesional\n",
        "                           impartido por CodigoFacilito\n",
        "                        '''"
      ],
      "metadata": {
        "id": "F9qvk5Qu-uQC"
      },
      "execution_count": null,
      "outputs": []
    },
    {
      "cell_type": "code",
      "source": [
        "print(mensaje_largo_dobles)\n",
        "print(mensaje_largo_simples)"
      ],
      "metadata": {
        "colab": {
          "base_uri": "https://localhost:8080/"
        },
        "id": "7cZqVNx4-4Cx",
        "outputId": "7fe36474-de51-4e97-e4e8-3caf7c290321"
      },
      "execution_count": null,
      "outputs": [
        {
          "output_type": "stream",
          "name": "stdout",
          "text": [
            " \n",
            "                           Te encuentras en los apuntes\n",
            "                           del curso de python profesional\n",
            "                           impartido por CodigoFacilito\n",
            "                        \n",
            "\n",
            "                           Te encuentras en los apuntes\n",
            "                           del curso de python profesional\n",
            "                           impartido por CodigoFacilito\n",
            "                        \n"
          ]
        }
      ]
    },
    {
      "cell_type": "markdown",
      "source": [
        "En dado caso que estemos trabajando con operaciones numericas y querramos hacer una division y esta de como resultado un numero decimal, pero a nosotros lo que nos interesa es solamente el numero entero hacemos uso de la doble diagonal '//', esto hara la division dandonos como resultado solo el numero entero:"
      ],
      "metadata": {
        "id": "Bjcs0QAN-80h"
      }
    },
    {
      "cell_type": "code",
      "source": [
        "division = 10 // 3\n",
        "print(division)"
      ],
      "metadata": {
        "colab": {
          "base_uri": "https://localhost:8080/"
        },
        "id": "qMAQFTFv_UKz",
        "outputId": "d28e6e55-be58-467a-da32-5b5e6ef1057f"
      },
      "execution_count": null,
      "outputs": [
        {
          "output_type": "stream",
          "name": "stdout",
          "text": [
            "3\n"
          ]
        }
      ]
    },
    {
      "cell_type": "markdown",
      "source": [
        "Ahora bien, en dado caso de que querramos solamente saber el residuo/sobrante de una division de manera que esta no genere decimales usamos el operador '%':"
      ],
      "metadata": {
        "id": "vvbNcPaJ_XDj"
      }
    },
    {
      "cell_type": "code",
      "source": [
        "division = 10 % 3 \n",
        "print(division)"
      ],
      "metadata": {
        "colab": {
          "base_uri": "https://localhost:8080/"
        },
        "id": "KHgPQuN3_iSA",
        "outputId": "7f734189-e9e5-4329-a0e2-6509a94f0b9c"
      },
      "execution_count": null,
      "outputs": [
        {
          "output_type": "stream",
          "name": "stdout",
          "text": [
            "1\n"
          ]
        }
      ]
    },
    {
      "cell_type": "code",
      "source": [
        "division = 10 % 4\n",
        "print(division)"
      ],
      "metadata": {
        "colab": {
          "base_uri": "https://localhost:8080/"
        },
        "id": "IXtYEg9W_3PK",
        "outputId": "912671b7-af00-4771-8ddc-26475594266e"
      },
      "execution_count": null,
      "outputs": [
        {
          "output_type": "stream",
          "name": "stdout",
          "text": [
            "2\n"
          ]
        }
      ]
    },
    {
      "cell_type": "markdown",
      "source": [
        "Por ejemplo en el numero 10, el valor 4 solo entra 2 veces por lo que sobran dos y en el caso del numero 3 este entra 3 veces y sobra 1."
      ],
      "metadata": {
        "id": "hU5O2OCH_62S"
      }
    },
    {
      "cell_type": "code",
      "source": [
        "%reset -f"
      ],
      "metadata": {
        "id": "Scm7csVtAJ-4"
      },
      "execution_count": null,
      "outputs": []
    },
    {
      "cell_type": "markdown",
      "source": [
        "Las variables en Python disponen de algo llamado tipado dinamico, lo cual permite que durante el tiempo de compilacion una misma variable pueda guardar diferentes tipos de valores en diferentes puntos de la compilacion:"
      ],
      "metadata": {
        "id": "o3B8gLtuANmX"
      }
    },
    {
      "cell_type": "code",
      "source": [
        "# Originalmente es un string\n",
        "valor = \"Francisco\"\n",
        "print(valor)\n",
        "print(type(valor))\n",
        "\n",
        "# Lo convertimos a int\n",
        "valor = 123\n",
        "print(valor)\n",
        "print(type(valor))\n",
        "\n",
        "# Lo convertimos a float\n",
        "valor = 3.4\n",
        "print(valor)\n",
        "print(type(valor))\n",
        "\n",
        "# Lo convertimos a booleano\n",
        "valor = True\n",
        "print(valor)\n",
        "print(type(valor))\n",
        "\n",
        "# Lo convertimos de nuevo en int\n",
        "valor = 10*20\n",
        "print(valor)\n",
        "print(type(valor))\n",
        "\n",
        "# Lo convertimos a string de nuevo\n",
        "valor = \"Un string de nuevo\"\n",
        "print(valor)\n",
        "print(type(valor))"
      ],
      "metadata": {
        "colab": {
          "base_uri": "https://localhost:8080/"
        },
        "id": "bOWQY6EfAjUm",
        "outputId": "b91f0464-941b-4be0-cc63-33cdaab1a785"
      },
      "execution_count": null,
      "outputs": [
        {
          "output_type": "stream",
          "name": "stdout",
          "text": [
            "Francisco\n",
            "<class 'str'>\n",
            "123\n",
            "<class 'int'>\n",
            "3.4\n",
            "<class 'float'>\n",
            "True\n",
            "<class 'bool'>\n",
            "200\n",
            "<class 'int'>\n",
            "Un string de nuevo\n",
            "<class 'str'>\n"
          ]
        }
      ]
    },
    {
      "cell_type": "markdown",
      "source": [
        "Como podemos observar en el codigo anterior durante diferentes puntos de la compilacion la variable valor cambio su tipo de dato, esto lo pudimos confirmar gracias a la funcion 'type' la cual nos permite saber el tipo de dato que esta almacenando nuestra variable en ese momento, para este caso lo usamos para visualizar de una mejor manera el tipado dinamico."
      ],
      "metadata": {
        "id": "KaB-XJP5AmeJ"
      }
    },
    {
      "cell_type": "code",
      "source": [
        "%reset -f"
      ],
      "metadata": {
        "id": "aVReoPlKBsS9"
      },
      "execution_count": null,
      "outputs": []
    },
    {
      "cell_type": "markdown",
      "source": [
        "## **Operadores:**"
      ],
      "metadata": {
        "id": "Ghm7NXVsBdJ2"
      }
    },
    {
      "cell_type": "markdown",
      "source": [
        "Para esta subseccion usaremos como ejemplo las siguientes variables:"
      ],
      "metadata": {
        "id": "4VrLbx-QBkR3"
      }
    },
    {
      "cell_type": "code",
      "source": [
        "variable_uno = 10\n",
        "variable_dos = 18 "
      ],
      "metadata": {
        "id": "zx-K4BhRBqqk"
      },
      "execution_count": null,
      "outputs": []
    },
    {
      "cell_type": "markdown",
      "source": [
        "En Python disponemos de seis operadores relacionales, con la ayuda de estos es que obtenemos una salida del tipo booleano, que como sabemos el tipo booleano solo puede almacenar un 'True' o un 'False':"
      ],
      "metadata": {
        "id": "SWjLhuaDBvLK"
      }
    },
    {
      "cell_type": "code",
      "source": [
        "mayor = variable_uno > variable_dos         # >\n",
        "menor = variable_uno < variable_dos         # <\n",
        "mayor_igual = variable_uno >= variable_dos  # >=\n",
        "menor_igual = variable_uno <= variable_dos  # <=\n",
        "igual = variable_uno == variable_dos        # ==\n",
        "diferente = variable_uno != variable_dos    # !="
      ],
      "metadata": {
        "id": "y3PHC86eCAVT"
      },
      "execution_count": null,
      "outputs": []
    },
    {
      "cell_type": "code",
      "source": [
        "print(mayor)\n",
        "print(menor)\n",
        "print(mayor_igual)\n",
        "print(menor_igual)\n",
        "print(igual)\n",
        "print(diferente)"
      ],
      "metadata": {
        "colab": {
          "base_uri": "https://localhost:8080/"
        },
        "id": "QJ4fQPn8CDrV",
        "outputId": "becb3100-eee4-4883-d7d9-9eeb247b6267"
      },
      "execution_count": null,
      "outputs": [
        {
          "output_type": "stream",
          "name": "stdout",
          "text": [
            "False\n",
            "True\n",
            "False\n",
            "True\n",
            "False\n",
            "True\n"
          ]
        }
      ]
    },
    {
      "cell_type": "markdown",
      "source": [
        "En Python de igual manera disponemos de operadores logicos, estos son solamente 3 y son los siguientes:\n",
        "\n",
        "\n",
        "*   AND\n",
        "*   OR\n",
        "*   NOT\n",
        "\n"
      ],
      "metadata": {
        "id": "tmGcK2YTCFKS"
      }
    },
    {
      "cell_type": "markdown",
      "source": [
        "### **AND:**"
      ],
      "metadata": {
        "id": "NvrP1vZ5CcCn"
      }
    },
    {
      "cell_type": "markdown",
      "source": [
        "Con el operador logico 'AND' ambos elementos a comparar deberan ser del mismo tipo o verdaderas para que el resultado siga siendo el mismo tipo/verdadero, por ejemplo:"
      ],
      "metadata": {
        "id": "nN8xxun-Cfk0"
      }
    },
    {
      "cell_type": "code",
      "source": [
        "True and True"
      ],
      "metadata": {
        "colab": {
          "base_uri": "https://localhost:8080/"
        },
        "id": "-O6d79wgC42q",
        "outputId": "0e2774ee-f6f8-4738-855f-67a41f592df4"
      },
      "execution_count": null,
      "outputs": [
        {
          "output_type": "execute_result",
          "data": {
            "text/plain": [
              "True"
            ]
          },
          "metadata": {},
          "execution_count": 33
        }
      ]
    },
    {
      "cell_type": "code",
      "source": [
        "False and False"
      ],
      "metadata": {
        "colab": {
          "base_uri": "https://localhost:8080/"
        },
        "id": "Q-HzA-I_CuiC",
        "outputId": "7ea39d5d-e900-4a92-c79f-2af8e234b906"
      },
      "execution_count": null,
      "outputs": [
        {
          "output_type": "execute_result",
          "data": {
            "text/plain": [
              "False"
            ]
          },
          "metadata": {},
          "execution_count": 34
        }
      ]
    },
    {
      "cell_type": "code",
      "source": [
        "diferente = True\n",
        "resultado = True and True and diferente  # 'Sale verdadero'\n",
        "print(resultado)"
      ],
      "metadata": {
        "colab": {
          "base_uri": "https://localhost:8080/"
        },
        "id": "ElOhQdGFDBBr",
        "outputId": "c8c2a8a6-d5e7-43a2-a039-03a33da3a033"
      },
      "execution_count": null,
      "outputs": [
        {
          "output_type": "stream",
          "name": "stdout",
          "text": [
            "True\n"
          ]
        }
      ]
    },
    {
      "cell_type": "code",
      "source": [
        "resultado = True and True and 5==5 # 'Sale verdadero'\n",
        "print(resultado)"
      ],
      "metadata": {
        "colab": {
          "base_uri": "https://localhost:8080/"
        },
        "id": "b0WYB6FyDHUa",
        "outputId": "4eaafdaf-c2e8-42fb-8b1c-42442162ea95"
      },
      "execution_count": null,
      "outputs": [
        {
          "output_type": "stream",
          "name": "stdout",
          "text": [
            "True\n"
          ]
        }
      ]
    },
    {
      "cell_type": "markdown",
      "source": [
        "Para este caso basta con que uno de los elementos a comparar sea diferente o no sea verdadero para que el resultado final sea falso:"
      ],
      "metadata": {
        "id": "Uss_aw_5DQky"
      }
    },
    {
      "cell_type": "code",
      "source": [
        "mayor = False\n",
        "resultado = True and True and mayor  # 'Sale falso'\n",
        "print(resultado)"
      ],
      "metadata": {
        "colab": {
          "base_uri": "https://localhost:8080/"
        },
        "id": "64flQrwfDi1H",
        "outputId": "daff9e58-ba1d-40cd-b89b-c9f9f3936f7e"
      },
      "execution_count": null,
      "outputs": [
        {
          "output_type": "stream",
          "name": "stdout",
          "text": [
            "False\n"
          ]
        }
      ]
    },
    {
      "cell_type": "code",
      "source": [
        "resultado = True and True and 10 > 20 # 'Sale falso'\n",
        "print(resultado)"
      ],
      "metadata": {
        "colab": {
          "base_uri": "https://localhost:8080/"
        },
        "id": "bNk0Ul3WEDUV",
        "outputId": "1e144533-d903-407f-de2c-000d036a9020"
      },
      "execution_count": null,
      "outputs": [
        {
          "output_type": "stream",
          "name": "stdout",
          "text": [
            "False\n"
          ]
        }
      ]
    },
    {
      "cell_type": "markdown",
      "source": [
        "### **OR:**"
      ],
      "metadata": {
        "id": "IbNhslNJDQXT"
      }
    },
    {
      "cell_type": "markdown",
      "source": [
        "Al usar el operador logico 'OR' basta con que uno de los elementos a comparar sea verdadero para que salga verdadero:"
      ],
      "metadata": {
        "id": "6lv8ieROEaDu"
      }
    },
    {
      "cell_type": "code",
      "source": [
        "False or False"
      ],
      "metadata": {
        "colab": {
          "base_uri": "https://localhost:8080/"
        },
        "id": "mpLmuwinExer",
        "outputId": "a5d072c1-3924-42ee-f870-c403bd851c6d"
      },
      "execution_count": null,
      "outputs": [
        {
          "output_type": "execute_result",
          "data": {
            "text/plain": [
              "False"
            ]
          },
          "metadata": {},
          "execution_count": 43
        }
      ]
    },
    {
      "cell_type": "code",
      "source": [
        "True or False"
      ],
      "metadata": {
        "colab": {
          "base_uri": "https://localhost:8080/"
        },
        "id": "iD8XclrfEy4g",
        "outputId": "0375db1f-9ed7-4597-fb45-da09f0f8651c"
      },
      "execution_count": null,
      "outputs": [
        {
          "output_type": "execute_result",
          "data": {
            "text/plain": [
              "True"
            ]
          },
          "metadata": {},
          "execution_count": 44
        }
      ]
    },
    {
      "cell_type": "code",
      "source": [
        "mayor = False\n",
        "resultado = True or True or mayor  # 'Sale True'\n",
        "print(resultado)"
      ],
      "metadata": {
        "colab": {
          "base_uri": "https://localhost:8080/"
        },
        "id": "QYiI2vdPE1oP",
        "outputId": "7240bbe7-f16e-4306-b618-06a84fc941a6"
      },
      "execution_count": null,
      "outputs": [
        {
          "output_type": "stream",
          "name": "stdout",
          "text": [
            "True\n"
          ]
        }
      ]
    },
    {
      "cell_type": "code",
      "source": [
        "resultado = 10 > 100 or True or mayor  # 'Sale True'\n",
        "print(resultado)"
      ],
      "metadata": {
        "colab": {
          "base_uri": "https://localhost:8080/"
        },
        "id": "2MO0tHpWE8q4",
        "outputId": "758bb0f1-3294-4a61-9a31-b380e7339646"
      },
      "execution_count": null,
      "outputs": [
        {
          "output_type": "stream",
          "name": "stdout",
          "text": [
            "True\n"
          ]
        }
      ]
    },
    {
      "cell_type": "code",
      "source": [
        "resultado = 10 > 100 or  False or mayor  # 'Sale False'\n",
        "print(resultado)"
      ],
      "metadata": {
        "colab": {
          "base_uri": "https://localhost:8080/"
        },
        "id": "nWpjQypLE-dm",
        "outputId": "4ac26bc9-bb07-4b99-df74-0381fea22326"
      },
      "execution_count": null,
      "outputs": [
        {
          "output_type": "stream",
          "name": "stdout",
          "text": [
            "False\n"
          ]
        }
      ]
    },
    {
      "cell_type": "markdown",
      "source": [
        "### **NOT:**"
      ],
      "metadata": {
        "id": "-iRS4KUCFDZt"
      }
    },
    {
      "cell_type": "markdown",
      "source": [
        "Al usar el operador logico 'NOT' los elementos daran como resultado verdadero si el operador es falso y falso si el operador es verdadero:"
      ],
      "metadata": {
        "id": "b_cf2iSoFP4H"
      }
    },
    {
      "cell_type": "code",
      "source": [
        "resultado = not False  # 'Sale verdadero'\n",
        "print(resultado)"
      ],
      "metadata": {
        "colab": {
          "base_uri": "https://localhost:8080/"
        },
        "id": "Nx-hf50zFoJ4",
        "outputId": "6fb1f502-d956-434a-ce8a-40cc418af409"
      },
      "execution_count": null,
      "outputs": [
        {
          "output_type": "stream",
          "name": "stdout",
          "text": [
            "True\n"
          ]
        }
      ]
    },
    {
      "cell_type": "code",
      "source": [
        "resultado = not(5 > 10) # 'Sale verdadero'\n",
        "print(resultado)"
      ],
      "metadata": {
        "colab": {
          "base_uri": "https://localhost:8080/"
        },
        "id": "P8btwotJFqQE",
        "outputId": "d0d94f45-9164-4d24-9311-9aad31aff604"
      },
      "execution_count": null,
      "outputs": [
        {
          "output_type": "stream",
          "name": "stdout",
          "text": [
            "True\n"
          ]
        }
      ]
    },
    {
      "cell_type": "code",
      "source": [
        "resultado = not True\n",
        "print(resultado)  # 'Sale falso'"
      ],
      "metadata": {
        "colab": {
          "base_uri": "https://localhost:8080/"
        },
        "id": "4B1xrpMGFv1O",
        "outputId": "1694ebcd-a8f7-4f1e-c442-eff6bdb14677"
      },
      "execution_count": null,
      "outputs": [
        {
          "output_type": "stream",
          "name": "stdout",
          "text": [
            "False\n"
          ]
        }
      ]
    },
    {
      "cell_type": "code",
      "source": [
        "resultado = not(10 > 5)\n",
        "print(resultado)"
      ],
      "metadata": {
        "colab": {
          "base_uri": "https://localhost:8080/"
        },
        "id": "OR6C1skAFxm4",
        "outputId": "379ab0c1-6ca8-4632-8c28-2bbdaf891bda"
      },
      "execution_count": null,
      "outputs": [
        {
          "output_type": "stream",
          "name": "stdout",
          "text": [
            "False\n"
          ]
        }
      ]
    },
    {
      "cell_type": "markdown",
      "source": [
        "### **Nota:**"
      ],
      "metadata": {
        "id": "i0UbMVPKF1q7"
      }
    },
    {
      "cell_type": "markdown",
      "source": [
        "Cabe mencionar que estos operadores logicos pueden ser combinados dentro de una misma sentencia, esto mediante el uso de parentesis para asi no perder jerarquia:\n"
      ],
      "metadata": {
        "id": "R-4RKWcPF34c"
      }
    },
    {
      "cell_type": "code",
      "source": [
        "resultado = not(True and (False or 5 > 10))\n",
        "print(resultado)"
      ],
      "metadata": {
        "colab": {
          "base_uri": "https://localhost:8080/"
        },
        "id": "ilJik74PF1ab",
        "outputId": "aebe8710-5b32-43fb-a5cb-53aeba075116"
      },
      "execution_count": null,
      "outputs": [
        {
          "output_type": "stream",
          "name": "stdout",
          "text": [
            "True\n"
          ]
        }
      ]
    },
    {
      "cell_type": "markdown",
      "source": [
        "### **is:**"
      ],
      "metadata": {
        "id": "FeUuKm7yGE1d"
      }
    },
    {
      "cell_type": "markdown",
      "source": [
        "'is' es una palabra reservada de Python la cual permite comparar si dos valores son iguales:"
      ],
      "metadata": {
        "id": "u4pElOONo8q4"
      }
    },
    {
      "cell_type": "code",
      "source": [
        "precio_uno = 15\n",
        "precio_dos = 15\n",
        "igualdad = precio_uno is precio_dos\n",
        "print(igualdad)"
      ],
      "metadata": {
        "id": "yLM0YqS-GEi6",
        "colab": {
          "base_uri": "https://localhost:8080/"
        },
        "outputId": "5b4e27d6-fc20-4c1b-817a-42d6c949d59b"
      },
      "execution_count": null,
      "outputs": [
        {
          "output_type": "stream",
          "name": "stdout",
          "text": [
            "True\n"
          ]
        }
      ]
    },
    {
      "cell_type": "code",
      "source": [
        "precio_uno = \"Francisco\"\n",
        "precio_dos = \"Francisco\"\n",
        "igualdad = precio_uno is precio_dos\n",
        "print(igualdad)"
      ],
      "metadata": {
        "colab": {
          "base_uri": "https://localhost:8080/"
        },
        "id": "D9zz7QBQpIqO",
        "outputId": "b46cb63c-9f3b-415f-e79d-c871ee634596"
      },
      "execution_count": null,
      "outputs": [
        {
          "output_type": "stream",
          "name": "stdout",
          "text": [
            "True\n"
          ]
        }
      ]
    },
    {
      "cell_type": "markdown",
      "source": [
        "En Python, \"is\" y \"==\" son operadores de comparación que se utilizan para comparar dos objetos.\n",
        "\n",
        "*   \"is\" se utiliza para comprobar si dos variables apuntan al mismo objeto en la memoria. Por ejemplo, si \"a\" y \"b\" son variables que apuntan al mismo objeto, entonces \"a is b\" será \"True\".\n",
        "\n",
        "\n",
        "```\n",
        "a = [1, 2, 3]\n",
        "b = a\n",
        "print(a is b)  # True, ya que a y b apuntan al mismo objeto en la memoria\n",
        "```\n",
        "\n",
        "\n",
        "*   \"==\" se utiliza para comprobar si dos variables tienen el mismo valor, aunque no sean el mismo objeto en la memoria. Por ejemplo, si \"a\" y \"b\" son variables que contienen el mismo valor, entonces \"a == b\" será \"True\".\n",
        "\n",
        "\n",
        "```\n",
        "a = [1, 2, 3]\n",
        "b = [1, 2, 3]\n",
        "print(a == b)  # True, ya que a y b tienen los mismos valores\n",
        "```\n",
        "\n",
        "Si al bloque de codigo anterior le aplicamos la palabra reservada 'IS':\n",
        "```\n",
        "print(a is b) # False\n",
        "```\n",
        "Nos dara como resultado 'False' debido a que si bien contienen lo mismo, a tiene un espacio en memoria y b dispone de otro.\n",
        "```\n",
        "a = [1, 2, 3]\n",
        "b = [1, 2, 3]\n",
        "print(a is b) # False\n",
        "```\n",
        "\n",
        "En resumen, \"is\" se utiliza para comparar la identidad de dos objetos, es decir, si son el mismo objeto en la memoria, mientras que \"==\" se utiliza para comparar la igualdad de dos objetos, es decir, si tienen el mismo valor aunque no sean el mismo objeto en la memoria.\n",
        "\n",
        "\n",
        "\n",
        "\n"
      ],
      "metadata": {
        "id": "T3-Wd-dNpNsw"
      }
    },
    {
      "cell_type": "code",
      "source": [
        "a = [1, 2, 3]\n",
        "b = [1, 2, 3]\n",
        "print(a is b)"
      ],
      "metadata": {
        "colab": {
          "base_uri": "https://localhost:8080/"
        },
        "id": "Rmrwe8x4pawf",
        "outputId": "c591a197-9327-4797-d466-8e27eb95cf99"
      },
      "execution_count": null,
      "outputs": [
        {
          "output_type": "stream",
          "name": "stdout",
          "text": [
            "False\n"
          ]
        }
      ]
    },
    {
      "cell_type": "code",
      "source": [
        "%reset -f"
      ],
      "metadata": {
        "id": "6ceVsVURq2ni"
      },
      "execution_count": null,
      "outputs": []
    },
    {
      "cell_type": "markdown",
      "source": [
        "## **Entradas:**"
      ],
      "metadata": {
        "id": "Qj_q1rMgrBlz"
      }
    },
    {
      "cell_type": "markdown",
      "source": [
        "Mediante la funcion 'input()' podemos pedirle informacion/datos al usuario; esta nos va a regresar  un valor de tipo String, en dado caso de que necesitemos trabajar con otro tipo de dato lo que haremos sera convertir este String al tipo de dato que vayamos a usar:"
      ],
      "metadata": {
        "id": "NO9-cSxMrNpP"
      }
    },
    {
      "cell_type": "code",
      "source": [
        "input(\"Ingresa tu nombre completo: \")"
      ],
      "metadata": {
        "colab": {
          "base_uri": "https://localhost:8080/",
          "height": 53
        },
        "id": "hy4Wja6prMjJ",
        "outputId": "7fdc3f97-4b5d-48ac-95b8-c0e25939bc27"
      },
      "execution_count": null,
      "outputs": [
        {
          "name": "stdout",
          "output_type": "stream",
          "text": [
            "Ingresa tu nombre completo: Francisco Galvez\n"
          ]
        },
        {
          "output_type": "execute_result",
          "data": {
            "text/plain": [
              "'Francisco Galvez'"
            ],
            "application/vnd.google.colaboratory.intrinsic+json": {
              "type": "string"
            }
          },
          "metadata": {},
          "execution_count": 4
        }
      ]
    },
    {
      "cell_type": "code",
      "source": [
        "nombre_completo = input(\"Ingresa tu nombre completo: \")\n",
        "print(nombre_completo)"
      ],
      "metadata": {
        "colab": {
          "base_uri": "https://localhost:8080/"
        },
        "id": "RYV6FbwlrosD",
        "outputId": "1f28e384-ac74-4117-b174-02319cccf0d6"
      },
      "execution_count": null,
      "outputs": [
        {
          "output_type": "stream",
          "name": "stdout",
          "text": [
            "Ingresa tu nombre completo: Francisco Galvez\n",
            "Francisco Galvez\n"
          ]
        }
      ]
    },
    {
      "cell_type": "code",
      "source": [
        "print(\"Cual es tu nombre:\")\n",
        "nombre_completo = input()"
      ],
      "metadata": {
        "colab": {
          "base_uri": "https://localhost:8080/"
        },
        "id": "UOqDwGvursbm",
        "outputId": "242b5e5f-9dd7-4ce7-c00c-555c597024bd"
      },
      "execution_count": null,
      "outputs": [
        {
          "name": "stdout",
          "output_type": "stream",
          "text": [
            "Cual es tu nombre:\n",
            "Francisco Galvez\n"
          ]
        }
      ]
    },
    {
      "cell_type": "markdown",
      "source": [
        "La funcion input siempre nos data como respuesta una cadena de caracteres(un String):"
      ],
      "metadata": {
        "id": "dPY8VaYTrwa3"
      }
    },
    {
      "cell_type": "code",
      "source": [
        "nombre_completo = input(\"Ingresa tu nombre completo: \")\n",
        "print(type(nombre_completo))"
      ],
      "metadata": {
        "colab": {
          "base_uri": "https://localhost:8080/"
        },
        "id": "dH-NEZmsr3PI",
        "outputId": "e1cfe176-c9a7-4fc4-f696-d37ca7890902"
      },
      "execution_count": null,
      "outputs": [
        {
          "output_type": "stream",
          "name": "stdout",
          "text": [
            "Ingresa tu nombre completo: Francisco Galvez\n",
            "<class 'str'>\n"
          ]
        }
      ]
    },
    {
      "cell_type": "code",
      "source": [
        "nombre_completo = input(\"Ingresa tu nombre completo: \")\n",
        "print(type(nombre_completo))"
      ],
      "metadata": {
        "colab": {
          "base_uri": "https://localhost:8080/"
        },
        "id": "EGW1tfV2r_MN",
        "outputId": "7a750432-d5b6-45f4-8e33-fc2c639e5019"
      },
      "execution_count": null,
      "outputs": [
        {
          "output_type": "stream",
          "name": "stdout",
          "text": [
            "Ingresa tu nombre completo: Francisco Galvez\n",
            "<class 'str'>\n"
          ]
        }
      ]
    },
    {
      "cell_type": "markdown",
      "source": [
        "Ahora bien, si le pedimos al usuario algun dato numerico/booleano, no nos conviene tenerlo en un String por lo que procederemos a cambiar el tipo de dato al mas conveniente:"
      ],
      "metadata": {
        "id": "iFtKI9kDsDXS"
      }
    },
    {
      "cell_type": "markdown",
      "source": [
        "Estamos convirtiendo el tipo 'String' del 'input()' a un 'Int()':"
      ],
      "metadata": {
        "id": "li55o3bNsa5z"
      }
    },
    {
      "cell_type": "code",
      "source": [
        "edad = int(input(\"Ingresa tu edad: \"))\n",
        "print(edad)\n",
        "print(type(edad))"
      ],
      "metadata": {
        "colab": {
          "base_uri": "https://localhost:8080/"
        },
        "id": "3qq3egxusDLN",
        "outputId": "6702e9a2-e4e0-49dd-8f6d-cca4614a0f1d"
      },
      "execution_count": null,
      "outputs": [
        {
          "output_type": "stream",
          "name": "stdout",
          "text": [
            "Ingresa tu edad: 18\n",
            "18\n",
            "<class 'int'>\n"
          ]
        }
      ]
    },
    {
      "cell_type": "code",
      "source": [
        "print(\"Cual es tu edad?\")\n",
        "edad = int(input())\n",
        "print(edad)\n",
        "print(type(edad))"
      ],
      "metadata": {
        "colab": {
          "base_uri": "https://localhost:8080/"
        },
        "id": "WrRSeMRyszcz",
        "outputId": "c66a33be-9993-40ae-d70c-8371e1c14985"
      },
      "execution_count": null,
      "outputs": [
        {
          "output_type": "stream",
          "name": "stdout",
          "text": [
            "Cual es tu edad?\n",
            "18\n",
            "18\n",
            "<class 'int'>\n"
          ]
        }
      ]
    },
    {
      "cell_type": "markdown",
      "source": [
        "Estamos convirtiendo el tipo 'String' del 'input()' a un 'float()':"
      ],
      "metadata": {
        "id": "a7vnNuHis2I-"
      }
    },
    {
      "cell_type": "code",
      "source": [
        "peso = float(input(\"Ingresa tu peso: \"))\n",
        "print(peso)\n",
        "print(type(peso))"
      ],
      "metadata": {
        "colab": {
          "base_uri": "https://localhost:8080/"
        },
        "id": "13qF62Dis9lH",
        "outputId": "bc11c6cb-c6a9-4841-b2dc-d1dbf09e3eb7"
      },
      "execution_count": null,
      "outputs": [
        {
          "output_type": "stream",
          "name": "stdout",
          "text": [
            "Ingresa tu peso: 12.3\n",
            "12.3\n",
            "<class 'float'>\n"
          ]
        }
      ]
    },
    {
      "cell_type": "code",
      "source": [
        "print(\"Cual es tu peso?\")\n",
        "peso = float(input())\n",
        "print(peso)\n",
        "print(type(peso))"
      ],
      "metadata": {
        "colab": {
          "base_uri": "https://localhost:8080/"
        },
        "id": "OVW5OkGetATH",
        "outputId": "4f82a005-d758-4798-97d8-3f2f08ac337b"
      },
      "execution_count": null,
      "outputs": [
        {
          "output_type": "stream",
          "name": "stdout",
          "text": [
            "Cual es tu peso?\n",
            "12.3\n",
            "12.3\n",
            "<class 'float'>\n"
          ]
        }
      ]
    },
    {
      "cell_type": "markdown",
      "source": [
        "Solicitamos algo al usuario pero sera booleano debido a como tratamos la variable:"
      ],
      "metadata": {
        "id": "SNYsbwhItExe"
      }
    },
    {
      "cell_type": "code",
      "source": [
        "autorizado = input(\"Estas autorizado para usar el programa(si/no)?\")\n",
        "autorizado = autorizado == \"si\"  # 'Va a dar TRUE cuando se cumpla la condicion, en este caso que la respuesta sea \"==\"si\"\" '\n",
        "print(autorizado)"
      ],
      "metadata": {
        "colab": {
          "base_uri": "https://localhost:8080/"
        },
        "id": "6eC7j7UZtFNe",
        "outputId": "90ab2ab9-39bf-492a-a019-9723557bfbfb"
      },
      "execution_count": null,
      "outputs": [
        {
          "output_type": "stream",
          "name": "stdout",
          "text": [
            "Estas autorizado para usar el programa(si/no)?no\n",
            "False\n"
          ]
        }
      ]
    },
    {
      "cell_type": "markdown",
      "source": [
        "Otra forma de implementar esta linea de codigo puede ser en unsa sola linea:"
      ],
      "metadata": {
        "id": "fs470iSFtK57"
      }
    },
    {
      "cell_type": "code",
      "source": [
        "autorizado = input(\"Estas autorizado para usar el programa(si/no)?\") == 'si'\n",
        "print(autorizado)"
      ],
      "metadata": {
        "colab": {
          "base_uri": "https://localhost:8080/"
        },
        "id": "6HcgPzrvtF53",
        "outputId": "53e81f8b-8b3a-4593-d752-f7371e083219"
      },
      "execution_count": null,
      "outputs": [
        {
          "output_type": "stream",
          "name": "stdout",
          "text": [
            "Estas autorizado para usar el programa(si/no)?si\n",
            "True\n"
          ]
        }
      ]
    },
    {
      "cell_type": "markdown",
      "source": [
        "Ahora vamos a imprimir todos los datos recaudados con anterioridad:"
      ],
      "metadata": {
        "id": "KI-GkS22tP3t"
      }
    },
    {
      "cell_type": "code",
      "source": [
        "print(\"Hola\", nombre_completo, \"Tu edad es:\", edad, \"Y tu peso es:\", peso)\n",
        "print(\"Autorizacion: \", autorizado)\n",
        "print(\"\\n\")"
      ],
      "metadata": {
        "colab": {
          "base_uri": "https://localhost:8080/"
        },
        "id": "DAkzvqhDtPDV",
        "outputId": "53700433-308c-4f12-bcc8-e9aeae1ee23d"
      },
      "execution_count": null,
      "outputs": [
        {
          "output_type": "stream",
          "name": "stdout",
          "text": [
            "Hola Francisco Galvez Tu edad es: 18 Y tu peso es: 12.3\n",
            "Autorizacion:  True\n",
            "\n",
            "\n"
          ]
        }
      ]
    },
    {
      "cell_type": "markdown",
      "source": [
        "Otra forma de solicitar los datos y almacenarlos puede ser la siguiente:"
      ],
      "metadata": {
        "id": "XXrlRhi5tTsm"
      }
    },
    {
      "cell_type": "code",
      "source": [
        "nombre_completo = input(\"Cual es tu nombre?\\n\")  # 'Esto es lo que se usa para hacer un salto de linea en la consola de python '\\n' '\n",
        "edad = int(input(\"Cual es tu edad?\\n\"))\n",
        "peso = float(input(\"Ingresa tu peso\\n\"))\n",
        "autorizado = input(\"Estas autorizado(si/no)\\n\") == \"si\""
      ],
      "metadata": {
        "colab": {
          "base_uri": "https://localhost:8080/"
        },
        "id": "BKu-o3UltVLU",
        "outputId": "1de86625-0a65-4871-9147-bcabade0f620"
      },
      "execution_count": null,
      "outputs": [
        {
          "name": "stdout",
          "output_type": "stream",
          "text": [
            "Cual es tu nombre?\n",
            "Francisco Galvez\n",
            "Cual es tu edad?\n",
            "22\n",
            "Ingresa tu peso\n",
            "103.5\n",
            "Estas autorizado(si/no)\n",
            "si\n"
          ]
        }
      ]
    },
    {
      "cell_type": "markdown",
      "source": [
        "En python usamos la coma o el signo mas para concatenar."
      ],
      "metadata": {
        "id": "4mN4Rf43tZ5G"
      }
    },
    {
      "cell_type": "code",
      "source": [
        "print(\"Hola:\", nombre_completo)\n",
        "print(\"Tu edad es:\", edad)\n",
        "print(\"Tu peso es:\", peso)\n",
        "print(\"Autorizado\", autorizado)"
      ],
      "metadata": {
        "colab": {
          "base_uri": "https://localhost:8080/"
        },
        "id": "pYCGDD63tcR9",
        "outputId": "f90373e0-b3b6-407a-fcf7-3f67c877e4ba"
      },
      "execution_count": null,
      "outputs": [
        {
          "output_type": "stream",
          "name": "stdout",
          "text": [
            "Hola: Francisco Galvez\n",
            "Tu edad es: 22\n",
            "Tu peso es: 103.5\n",
            "Autorizado True\n"
          ]
        }
      ]
    },
    {
      "cell_type": "code",
      "source": [
        "%reset -f"
      ],
      "metadata": {
        "id": "TQ0JeKj2trGK"
      },
      "execution_count": null,
      "outputs": []
    },
    {
      "cell_type": "markdown",
      "source": [
        "## **Comentarios:**"
      ],
      "metadata": {
        "id": "Fzsp2GazttCB"
      }
    },
    {
      "cell_type": "markdown",
      "source": [
        "Este es un comentario de una linea:"
      ],
      "metadata": {
        "id": "ZHYFGaVYt70J"
      }
    },
    {
      "cell_type": "code",
      "source": [
        "# Este es un comentario de una linea\n",
        "print(\"Hola mundo\")"
      ],
      "metadata": {
        "colab": {
          "base_uri": "https://localhost:8080/"
        },
        "id": "Qkah6e8ptsz1",
        "outputId": "9d08ee28-79e7-493b-956d-dce3e104b829"
      },
      "execution_count": null,
      "outputs": [
        {
          "output_type": "stream",
          "name": "stdout",
          "text": [
            "Hola mundo\n"
          ]
        }
      ]
    },
    {
      "cell_type": "markdown",
      "source": [
        "Este es un comentario con saltos de linea:"
      ],
      "metadata": {
        "id": "SJr73ivIt-wm"
      }
    },
    {
      "cell_type": "code",
      "source": [
        "\"\"\"\n",
        "Este es un\n",
        "comentario\n",
        "con saltos de linea\n",
        "\"\"\"\n",
        "\n",
        "resultado = 20*20\n",
        "print(resultado)"
      ],
      "metadata": {
        "colab": {
          "base_uri": "https://localhost:8080/"
        },
        "id": "Z-ySp5X_uABO",
        "outputId": "85366a67-abfb-4584-d384-22037be2529d"
      },
      "execution_count": null,
      "outputs": [
        {
          "output_type": "stream",
          "name": "stdout",
          "text": [
            "400\n"
          ]
        }
      ]
    },
    {
      "cell_type": "code",
      "source": [
        "%reset -f"
      ],
      "metadata": {
        "id": "dHJmewieuBrv"
      },
      "execution_count": null,
      "outputs": []
    },
    {
      "cell_type": "markdown",
      "source": [
        "# **Listas:**"
      ],
      "metadata": {
        "id": "-y70X8cF6ran"
      }
    },
    {
      "cell_type": "markdown",
      "source": [
        "Para declarar una lista en Python, disponemos de dos opciones:"
      ],
      "metadata": {
        "id": "HfiHOrVeuMn2"
      }
    },
    {
      "cell_type": "code",
      "source": [
        "lista = list()"
      ],
      "metadata": {
        "id": "CANJbdfEvNBu"
      },
      "execution_count": null,
      "outputs": []
    },
    {
      "cell_type": "code",
      "source": [
        "lista = []"
      ],
      "metadata": {
        "id": "gSpM6P3pvOTO"
      },
      "execution_count": null,
      "outputs": []
    },
    {
      "cell_type": "markdown",
      "source": [
        "Recordemos que el formato de una lista es el siguiente:"
      ],
      "metadata": {
        "id": "kR_jb3rPvScx"
      }
    },
    {
      "cell_type": "code",
      "source": [
        "# 'Nombre de la variable, signo igual, corchetes'\n",
        "lista = [\"Eduardo\", 23, True, 19.5]  # 'Lista con un tamaño de cuatro'\n",
        "#         0         1   2     3"
      ],
      "metadata": {
        "id": "UUBfWP8UvP6n"
      },
      "execution_count": null,
      "outputs": []
    },
    {
      "cell_type": "markdown",
      "source": [
        "El orden de los indices de la lista empieza desde el numero 0; 0 1 2 3."
      ],
      "metadata": {
        "id": "LlKsFsZrwJji"
      }
    },
    {
      "cell_type": "markdown",
      "source": [
        "Las listas se parecen a arreglos, con la diferencia de que una lista puede ir cambiando su tamaño durante la ejecucion."
      ],
      "metadata": {
        "id": "7Cexe5PYwMGy"
      }
    },
    {
      "cell_type": "markdown",
      "source": [
        "Si bien las listas nos permiten mezclar los elementos a almacenar, como en la lista anterior que mezclamos un string, con un int, con un booleano y con un float, lo recomendable y mas comun es crear listas de un solo tipo, una lista solo de strings, una lista de solo boleanos, etc."
      ],
      "metadata": {
        "id": "q1II_ZuNwPa2"
      }
    },
    {
      "cell_type": "code",
      "source": [
        "lista_strings = [\"Ingeniero\", \"Francisco\", \"Leonid\", \"Galvez\", \"Flores\"]\n",
        "lista_enteros = [1, 2, 3, 4, 5, 6, 7, 8, 9, 10]\n",
        "lista_floats = [1.5, 3.2, 10/3, 4,8]\n",
        "lista_booleanos = [True, (2<10), (4>3 and 10 != 11), False]"
      ],
      "metadata": {
        "id": "sEkBW_S1wOtx"
      },
      "execution_count": null,
      "outputs": []
    },
    {
      "cell_type": "markdown",
      "source": [
        "De esta forma evitamos posibles errores al momento de ejecucion del codigo y de igual manera estandarizamos la codificacion."
      ],
      "metadata": {
        "id": "xqwf5MtTwS0u"
      }
    },
    {
      "cell_type": "markdown",
      "source": [
        "Todos los valores almacenados dentro de una lista disponen de una posicion en esta, a esta posicion se le conoce como indice, y mediante este podemos obtener, actualizar y eliminar elementos dentro de la lista."
      ],
      "metadata": {
        "id": "cX6P-mtWwUMG"
      }
    },
    {
      "cell_type": "code",
      "source": [
        "lista_enteros = [1, 2, 3, 4, 5, 6, 7, 8, 9, 10]\n",
        "print(len(lista_enteros))"
      ],
      "metadata": {
        "colab": {
          "base_uri": "https://localhost:8080/"
        },
        "id": "3EJ0qgl_wSen",
        "outputId": "5c79e963-8313-4a87-e67c-1130d8d54d10"
      },
      "execution_count": null,
      "outputs": [
        {
          "output_type": "stream",
          "name": "stdout",
          "text": [
            "10\n"
          ]
        }
      ]
    },
    {
      "cell_type": "markdown",
      "source": [
        "## **Ejercicios de la leccion \"\"Listas\"\":**"
      ],
      "metadata": {
        "id": "_nBwXkVDwb7e"
      }
    },
    {
      "cell_type": "markdown",
      "source": [
        "Para esto declararemos la lista con la que estaremos trabajando, la cual contendra datos del tipo string:"
      ],
      "metadata": {
        "id": "o6UItXGRwlLs"
      }
    },
    {
      "cell_type": "code",
      "source": [
        "lista_cursos = [\"Python\", \"Django\", \"Flask\", \"C\", \"C++\", \"C#\", \"Java\", \"PHP\"]\n",
        "#                0         1         2        3    4      5     6       7\n",
        "#               -8        -7        -6       -5   -4     -3    -2      -1"
      ],
      "metadata": {
        "id": "TUhYBy6Gwp__"
      },
      "execution_count": null,
      "outputs": []
    },
    {
      "cell_type": "markdown",
      "source": [
        "En el siguiente ejemplo obtendremos el primer elemento de la lista, el cual tiene el indice '0':"
      ],
      "metadata": {
        "id": "XeEJt9Fmwr1M"
      }
    },
    {
      "cell_type": "code",
      "source": [
        "primer_curso = lista_cursos[0]\n",
        "print(primer_curso) # Al ejecutar se imprime en pantalla 'Python'"
      ],
      "metadata": {
        "colab": {
          "base_uri": "https://localhost:8080/"
        },
        "id": "1Lk3FqxSwtRu",
        "outputId": "8d6490ef-796a-46ee-ef87-cb1154025d19"
      },
      "execution_count": null,
      "outputs": [
        {
          "output_type": "stream",
          "name": "stdout",
          "text": [
            "Python\n"
          ]
        }
      ]
    },
    {
      "cell_type": "markdown",
      "source": [
        "Ahora para obtener el segundo elemento de la lista, tendriamos que llamar al indice numero '1' de la lista, recordando que el orden de los indices de la lista empieza desde el numero 0; 0 1 2 3."
      ],
      "metadata": {
        "id": "sFDRsv_Rwu6a"
      }
    },
    {
      "cell_type": "code",
      "source": [
        "segundo_curso = lista_cursos[1]\n",
        "print(segundo_curso) # Al ejecutar se imprime en pantalla 'Django'"
      ],
      "metadata": {
        "colab": {
          "base_uri": "https://localhost:8080/"
        },
        "id": "yeKNBFalwwIn",
        "outputId": "249bb7f5-48f7-433a-e2ef-0c68a3d78fb1"
      },
      "execution_count": null,
      "outputs": [
        {
          "output_type": "stream",
          "name": "stdout",
          "text": [
            "Django\n"
          ]
        }
      ]
    },
    {
      "cell_type": "markdown",
      "source": [
        "De igual manera si quisieramos obtener el ultimo elemento de la lista, podemos trabajar con indices neagativos, por ejemplo si ponemos que el idice sea (-1), este nos dara el ultimo elemento de la lista, si ponemos (-2), nos dara el penultimo, con (-3) el antepenultimo, por lo que podemos recorrer la lista a la inversa."
      ],
      "metadata": {
        "id": "nMwUinRLwyCo"
      }
    },
    {
      "cell_type": "code",
      "source": [
        "ultimo_curso = lista_cursos[-1]\n",
        "print(ultimo_curso) # Al ejecutar se imprime en pantalla 'PHP'"
      ],
      "metadata": {
        "colab": {
          "base_uri": "https://localhost:8080/"
        },
        "id": "5kc2tnMswzvy",
        "outputId": "27370c94-fbfe-41d5-ef8d-1f6406292c39"
      },
      "execution_count": null,
      "outputs": [
        {
          "output_type": "stream",
          "name": "stdout",
          "text": [
            "PHP\n"
          ]
        }
      ]
    },
    {
      "cell_type": "markdown",
      "source": [
        "Para acceder al primer curso en la lista de cursos mediante indices negativos hariamos lo siguiente:"
      ],
      "metadata": {
        "id": "flmwuBjFw4VF"
      }
    },
    {
      "cell_type": "code",
      "source": [
        "primer_curso= lista_cursos[-8]\n",
        "print(primer_curso) # Al ejecutar se imprime en pantalla 'Python'"
      ],
      "metadata": {
        "colab": {
          "base_uri": "https://localhost:8080/"
        },
        "id": "1HUE2sq0w6fA",
        "outputId": "119fe0be-69af-4d89-9bb8-1c2c559a3250"
      },
      "execution_count": null,
      "outputs": [
        {
          "output_type": "stream",
          "name": "stdout",
          "text": [
            "Python\n"
          ]
        }
      ]
    },
    {
      "cell_type": "markdown",
      "source": [
        "Si ponemos un indice que no exista, nosotros obtendremos un error, el cual es muy descriptivo mediante la terminal, por lo que no podemos obtener un valor a partir de un indice que no existe.\n",
        "\n",
        "\n",
        "```\n",
        "primer_curso= lista_cursos[-9]\n",
        "print(primer_curso) # Indice que no existe\n",
        "```\n",
        "```\n",
        "---------------------------------------------------------------------------\n",
        "IndexError                                Traceback (most recent call last)\n",
        "<ipython-input-60-8a3d60f008e1> in <module>\n",
        "----> 1 primer_curso= lista_cursos[-9]\n",
        "      2 print(primer_curso)\n",
        "\n",
        "IndexError: list index out of range\n",
        "```"
      ],
      "metadata": {
        "id": "AiBTPYq0w9-h"
      }
    },
    {
      "cell_type": "markdown",
      "source": [
        "Para cambiar los datos dentro de una lista se indica el indice de la lista al cual queremos acceder y se cambia su valor:"
      ],
      "metadata": {
        "id": "vFBg4GktxDoD"
      }
    },
    {
      "cell_type": "markdown",
      "source": [
        "\n",
        "```\n",
        "lista_cursos = [\"Python\", \"Django\", \"Flask\", \"C\", \"C++\", \"C#\", \"Java\", \"PHP\"]\n",
        "#                0         1         2        3    4      5     6       7\n",
        "#               -8        -7        -6       -5   -4     -3    -2      -1\n",
        "```"
      ],
      "metadata": {
        "id": "1yTaRdqwxI57"
      }
    },
    {
      "cell_type": "code",
      "source": [
        "print(lista_cursos)"
      ],
      "metadata": {
        "colab": {
          "base_uri": "https://localhost:8080/"
        },
        "id": "geykwTpVw9hb",
        "outputId": "e1307e15-3856-463c-c816-00c49d125c49"
      },
      "execution_count": null,
      "outputs": [
        {
          "output_type": "stream",
          "name": "stdout",
          "text": [
            "['Python', 'Django', 'Flask', 'C', 'C++', 'C#', 'Java', 'PHP']\n"
          ]
        }
      ]
    },
    {
      "cell_type": "markdown",
      "source": [
        "Asi podemos cambiar el dato de un indice en especifico perteneciente a una lista:"
      ],
      "metadata": {
        "id": "CWsZnCPTxO4E"
      }
    },
    {
      "cell_type": "code",
      "source": [
        "lista_cursos[7] = \"Rust\" # Cambiamos PHP por Rust"
      ],
      "metadata": {
        "id": "KBV3laRSxQcI"
      },
      "execution_count": null,
      "outputs": []
    },
    {
      "cell_type": "code",
      "source": [
        "print(lista_cursos)"
      ],
      "metadata": {
        "colab": {
          "base_uri": "https://localhost:8080/"
        },
        "id": "i-AIXajnxRam",
        "outputId": "ce3aae03-44ed-4189-a16e-353d9e6dbcce"
      },
      "execution_count": null,
      "outputs": [
        {
          "output_type": "stream",
          "name": "stdout",
          "text": [
            "['Python', 'Django', 'Flask', 'C', 'C++', 'C#', 'Java', 'Rust']\n"
          ]
        }
      ]
    },
    {
      "cell_type": "markdown",
      "source": [
        "Por lo que despues de esto la lista quedaria asi:\n",
        "\n",
        "```\n",
        "lista_cursos = [\"Python\", \"Django\", \"Flask\", \"C\", \"C++\", \"C#\", \"Java\", \"Rust\"]\n",
        "#                0         1         2        3    4      5     6       7\n",
        "#               -8        -7        -6       -5   -4     -3    -2      -1\n",
        "```\n"
      ],
      "metadata": {
        "id": "NuykLJmVxVBM"
      }
    },
    {
      "cell_type": "markdown",
      "source": [
        "Podemos modificar cualquier indice dentro de la lista, recordemos que una lista es dinamica, puede aumentar o decrecer su tamaño durante el tiempo de ejecucion."
      ],
      "metadata": {
        "id": "YiFO1QWRxYqF"
      }
    },
    {
      "cell_type": "markdown",
      "source": [
        "## **Sublistas:**"
      ],
      "metadata": {
        "id": "kf-UTiRYxipB"
      }
    },
    {
      "cell_type": "markdown",
      "source": [
        "Una sublista es una lista creada con elementos de la primera lista."
      ],
      "metadata": {
        "id": "SSh2eRiWxqdA"
      }
    },
    {
      "cell_type": "markdown",
      "source": [
        "Dentro de los corchetes colocamos el indice en el cual iniciara nuestra sublista, seguido de dos puntos (:) y luego colocamos el indice en el cual terminara nuestra sublista(al imprimir se quedara hasta uno antes del indice final), la sintaxis seria ('indice de origen' : 'indice final'). Recordando que no tomara el valor del indice final, si no el valor del indice anterior al final que establecimos.\n",
        "\n",
        "Nuestra lista nos mostrara los elementos de la lista empezando por el indice de origen y nos mostrara hasta un elemento antes del indice final.\n",
        "\n",
        "Si queremos partir del indice 0, tambien podemos usar la siguiente sintaxis (:n) donde el numero 'n' seria el valor anterior al indice en el cual terminara nuestra sublista.\n",
        "\n",
        "Si queremos obtener todos los elementos a partir de un indice en especifico seria la siguiente sintaxis (n:), donde el numero 'n' seria el indice a partir del cual empezara nuestra sublista.\n",
        "\n",
        "Si no indicamos ni un indice de partida ni un indice final, la sublista nos mostraria toda la lista completa si ninguna modificacion, la sintaxis seria (:)."
      ],
      "metadata": {
        "id": "_67GcH0sxv7j"
      }
    },
    {
      "cell_type": "markdown",
      "source": [
        "Estas son las formas en las cuales nosotros podemos crear una nueva lista a partir de otra.\n",
        "\n",
        "*   [:] Todos los elementos.\n",
        "*   [start:] Todos los elementos desde el índice establecido(start).\n",
        "*   [:end] Todos los elementos desde el índice cero hasta uno antes del *   índice establecido(end).\n",
        "*   [start:end] Todos los elementos de un rango de índices.\n",
        "*   [start:end:step] Todos los elementos de un rango de índices con saltos.\n",
        "\n",
        "De igual forma, este listado es aplicable a las tuplas y los strings."
      ],
      "metadata": {
        "id": "W2BwyznqxyMN"
      }
    },
    {
      "cell_type": "code",
      "source": [
        "print(lista_cursos)"
      ],
      "metadata": {
        "colab": {
          "base_uri": "https://localhost:8080/"
        },
        "id": "SNH1Ni2kx0TG",
        "outputId": "6bc311cb-676d-4282-d03f-89d71b2767ce"
      },
      "execution_count": null,
      "outputs": [
        {
          "output_type": "stream",
          "name": "stdout",
          "text": [
            "['Python', 'Django', 'Flask', 'C', 'C++', 'C#', 'Java', 'Rust']\n"
          ]
        }
      ]
    },
    {
      "cell_type": "markdown",
      "source": [
        "```\n",
        "lista_cursos = [\"Python\", \"Django\", \"Flask\", \"C\", \"C++\", \"C#\", \"Java\", \"Rust\"]\n",
        "#                0         1         2        3    4      5     6       7\n",
        "#               -8        -7        -6       -5   -4     -3    -2      -1\n",
        "```"
      ],
      "metadata": {
        "id": "-RUFFkoJx2sW"
      }
    },
    {
      "cell_type": "markdown",
      "source": [
        "### **[:]**"
      ],
      "metadata": {
        "id": "cspI84o2yKwz"
      }
    },
    {
      "cell_type": "markdown",
      "source": [
        "Ejemplo con todos los elementos:\n",
        "\n",
        "[:] Todos los elementos."
      ],
      "metadata": {
        "id": "KHlv4kGKyRSO"
      }
    },
    {
      "cell_type": "code",
      "source": [
        "sublista_cursos = lista_cursos[:]\n",
        "print(sublista_cursos)"
      ],
      "metadata": {
        "colab": {
          "base_uri": "https://localhost:8080/"
        },
        "id": "eOi7dg85ySiT",
        "outputId": "3e6ff7ea-8099-4361-c73d-ce4a521dde81"
      },
      "execution_count": null,
      "outputs": [
        {
          "output_type": "stream",
          "name": "stdout",
          "text": [
            "['Python', 'Django', 'Flask', 'C', 'C++', 'C#', 'Java', 'Rust']\n"
          ]
        }
      ]
    },
    {
      "cell_type": "markdown",
      "source": [
        "Lista original:\n",
        "```\n",
        "lista_cursos = [\"Python\", \"Django\", \"Flask\", \"C\", \"C++\", \"C#\", \"Java\", \"Rust\"]\n",
        "#                0         1         2        3    4      5     6       7\n",
        "#               -8        -7        -6       -5   -4     -3    -2      -1\n",
        "```\n",
        "Sublista:\n",
        "\n",
        "```\n",
        "sublista_ cursos = ['Python', 'Django', 'Flask', 'C', 'C++', 'C#', 'Java', 'Rust']\n",
        "```\n",
        "Obviamente no varia debido a que establecimos que la sublista sea toda la lista con '[:]'."
      ],
      "metadata": {
        "id": "zyIVmXikyVP4"
      }
    },
    {
      "cell_type": "markdown",
      "source": [
        "### **[start:]**"
      ],
      "metadata": {
        "id": "36aEGaVyyYtH"
      }
    },
    {
      "cell_type": "markdown",
      "source": [
        "Ejemplo con todos los elementos desde el índice establecido(start):\n",
        "\n",
        "[start:] Todos los elementos desde el índice establecido(start)."
      ],
      "metadata": {
        "id": "KZ9oqXoHycWT"
      }
    },
    {
      "cell_type": "code",
      "source": [
        "sublista_cursos = lista_cursos[3:]\n",
        "print(sublista_cursos)"
      ],
      "metadata": {
        "colab": {
          "base_uri": "https://localhost:8080/"
        },
        "id": "ZIu9K4y1yeqi",
        "outputId": "dae82408-3903-4f0a-a534-dfa0c1a8b777"
      },
      "execution_count": null,
      "outputs": [
        {
          "output_type": "stream",
          "name": "stdout",
          "text": [
            "['C', 'C++', 'C#', 'Java', 'Rust']\n"
          ]
        }
      ]
    },
    {
      "cell_type": "markdown",
      "source": [
        "Lista original:\n",
        "```\n",
        "lista_cursos = [\"Python\", \"Django\", \"Flask\", \"C\", \"C++\", \"C#\", \"Java\", \"Rust\"]\n",
        "#                0         1         2        3    4      5     6       7\n",
        "#               -8        -7        -6       -5   -4     -3    -2      -1\n",
        "```\n",
        "Sublista:\n",
        "\n",
        "```\n",
        "sublista_ cursos = ['C', 'C++', 'C#', 'Java', 'Rust']\n",
        "```\n",
        "Como podemos ver la sublista se crea desde el indice 3 hasta que finaliza, esto debido a que usamos '[start:]'."
      ],
      "metadata": {
        "id": "cgN0C0Rtyqi3"
      }
    },
    {
      "cell_type": "markdown",
      "source": [
        "### **:end**"
      ],
      "metadata": {
        "id": "Q8HVct8Syt7b"
      }
    },
    {
      "cell_type": "markdown",
      "source": [
        "Ejemplo con todos los elementos desde el índice cero hasta uno antes del índice establecido(end):\n",
        "\n",
        "[:end] Todos los elementos desde el índice cero hasta uno antes del * índice establecido(end)."
      ],
      "metadata": {
        "id": "Swj8PCAkywcl"
      }
    },
    {
      "cell_type": "code",
      "source": [
        "sublista_cursos = lista_cursos[:3]\n",
        "print(sublista_cursos)"
      ],
      "metadata": {
        "colab": {
          "base_uri": "https://localhost:8080/"
        },
        "id": "CftA17FQywG3",
        "outputId": "88ce01ba-5922-4c84-aaea-f8e1a7962916"
      },
      "execution_count": null,
      "outputs": [
        {
          "output_type": "stream",
          "name": "stdout",
          "text": [
            "['Python', 'Django', 'Flask']\n"
          ]
        }
      ]
    },
    {
      "cell_type": "markdown",
      "source": [
        "Lista original:\n",
        "```\n",
        "lista_cursos = [\"Python\", \"Django\", \"Flask\", \"C\", \"C++\", \"C#\", \"Java\", \"Rust\"]\n",
        "#                0         1         2        3    4      5     6       7\n",
        "#               -8        -7        -6       -5   -4     -3    -2      -1\n",
        "```\n",
        "Sublista:\n",
        "\n",
        "```\n",
        "sublista_ cursos = ['Python', 'Django', 'Flask']\n",
        "```\n",
        "Como podemos ver la sublista se crea desde el indice 0 hasta el valor que tiene el indice anterior al establecido como end, esto debido a que usamos '[:end]'."
      ],
      "metadata": {
        "id": "3VDcISvGy0ml"
      }
    },
    {
      "cell_type": "markdown",
      "source": [
        "### **[start:end]**"
      ],
      "metadata": {
        "id": "Df-qK6gjy5eJ"
      }
    },
    {
      "cell_type": "markdown",
      "source": [
        "Ejemplo con todos los elementos de un rango de índices:\n",
        "\n",
        "[start:end] Todos los elementos de un rango de índices."
      ],
      "metadata": {
        "id": "u9A0_-jty_me"
      }
    },
    {
      "cell_type": "code",
      "source": [
        "sublista_cursos = lista_cursos[1:6]\n",
        "print(sublista_cursos)"
      ],
      "metadata": {
        "colab": {
          "base_uri": "https://localhost:8080/"
        },
        "id": "ATEcWNiUzCUl",
        "outputId": "9691e24f-092a-43b4-979e-e4c0c6fa63fb"
      },
      "execution_count": null,
      "outputs": [
        {
          "output_type": "stream",
          "name": "stdout",
          "text": [
            "['Django', 'Flask', 'C', 'C++', 'C#']\n"
          ]
        }
      ]
    },
    {
      "cell_type": "markdown",
      "source": [
        "Lista original:\n",
        "```\n",
        "lista_cursos = [\"Python\", \"Django\", \"Flask\", \"C\", \"C++\", \"C#\", \"Java\", \"Rust\"]\n",
        "#                0         1         2        3    4      5     6       7\n",
        "#               -8        -7        -6       -5   -4     -3    -2      -1\n",
        "```\n",
        "Sublista:\n",
        "\n",
        "```\n",
        "sublista_ cursos = ['Django', 'Flask', 'C', 'C++', 'C#']\n",
        "```\n",
        "Como podemos ver la sublista se crea desde el indice 1 hasta el valor que tiene\n",
        "el indice anterior al establecido como end, que en este caso el valor del indice\n",
        "end es 6, por lo que se quedara en el valor del indice 5,\n",
        "esto debido a que usamos '[start:end]'."
      ],
      "metadata": {
        "id": "DyDxOt8jzFR5"
      }
    },
    {
      "cell_type": "markdown",
      "source": [
        "Si queremos obtener los elementos 2, 3 y 4 de la lista, hariamos algo como esto:"
      ],
      "metadata": {
        "id": "3f2f-DhazIUT"
      }
    },
    {
      "cell_type": "code",
      "source": [
        "sublista = lista_cursos[1:4]\n",
        "print(sublista) #Al ejecutar se imprimira en pantalla 'Python, Django, Flask'"
      ],
      "metadata": {
        "colab": {
          "base_uri": "https://localhost:8080/"
        },
        "id": "vDwlC534zLJo",
        "outputId": "fe3d050c-2c6a-4e68-8ff3-e54e3c064c59"
      },
      "execution_count": null,
      "outputs": [
        {
          "output_type": "stream",
          "name": "stdout",
          "text": [
            "['Django', 'Flask', 'C']\n"
          ]
        }
      ]
    },
    {
      "cell_type": "markdown",
      "source": [
        "### **Saltos en lista para crear sublistas:**"
      ],
      "metadata": {
        "id": "9wSh8cTIzUNB"
      }
    },
    {
      "cell_type": "markdown",
      "source": [
        "# **Matrices:**"
      ],
      "metadata": {
        "id": "FAMccWP70NLD"
      }
    },
    {
      "cell_type": "markdown",
      "source": [
        "# **Tuplas:**"
      ],
      "metadata": {
        "id": "c6UFPx1k6yMi"
      }
    },
    {
      "cell_type": "markdown",
      "source": [
        "# **Strings:**"
      ],
      "metadata": {
        "id": "aJt1THJS6151"
      }
    },
    {
      "cell_type": "markdown",
      "source": [
        "# **Diccionarios:**"
      ],
      "metadata": {
        "id": "WGa9AzsW659p"
      }
    },
    {
      "cell_type": "markdown",
      "source": [
        "# **Ciclos y condiciones:**"
      ],
      "metadata": {
        "id": "a81SMReX66VF"
      }
    },
    {
      "cell_type": "markdown",
      "source": [
        "# **Funciones**"
      ],
      "metadata": {
        "id": "anjfQm2_7BdV"
      }
    },
    {
      "cell_type": "markdown",
      "source": [
        "# **Clases:**"
      ],
      "metadata": {
        "id": "OksVYIr57Do_"
      }
    }
  ]
}